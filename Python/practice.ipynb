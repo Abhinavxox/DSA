{
 "cells": [
  {
   "cell_type": "code",
   "execution_count": 5,
   "metadata": {},
   "outputs": [
    {
     "name": "stdout",
     "output_type": "stream",
     "text": [
      "X 0 1 2 3 4 5 6 \n",
      "0 0 1 0 1 0 0 0 \n",
      "1 1 0 1 1 0 1 1 \n",
      "2 0 1 0 1 1 1 0 \n",
      "3 1 1 1 0 1 0 0 \n",
      "4 0 0 1 1 0 0 1 \n",
      "5 0 1 1 0 0 0 0 \n",
      "6 0 1 0 0 1 0 0 \n"
     ]
    }
   ],
   "source": [
    "#Adjacency List(Undirected graph):\n",
    "class Graph:\n",
    "    def __init__(self,Vertices):\n",
    "        self.V = Vertices\n",
    "        self.graph = [[0 for column in range(Vertices)]for row in range(Vertices)]\n",
    "\n",
    "    def add_edge(self,u,v):\n",
    "        self.graph[u][v] = 1\n",
    "        self.graph[v][u] = 1\n",
    "    \n",
    "    def print_graph(self):\n",
    "        print('X', end=\" \")\n",
    "        for i in range( self.V):\n",
    "            print(i, end=\" \")\n",
    "        print()\n",
    "        for i in range(self.V):\n",
    "            print(i,end=\" \")\n",
    "            for j in range(self.V):\n",
    "                print(self.graph[i][j],end=\" \")\n",
    "            print()\n",
    "\n",
    "graph = Graph(7)\n",
    "graph.add_edge(0,1)\n",
    "graph.add_edge(0,3)\n",
    "graph.add_edge(1,2)\n",
    "graph.add_edge(1,3)\n",
    "graph.add_edge(1,5)\n",
    "graph.add_edge(1,6)\n",
    "graph.add_edge(2,3)\n",
    "graph.add_edge(2,5)\n",
    "graph.add_edge(2,4)\n",
    "graph.add_edge(3,4)\n",
    "graph.add_edge(4,6)\n",
    "graph.print_graph()\n"
   ]
  },
  {
   "cell_type": "code",
   "execution_count": 10,
   "metadata": {},
   "outputs": [
    {
     "name": "stdout",
     "output_type": "stream",
     "text": [
      "0:['1', '3']\n",
      "1:['0', '2', '3', '5', '6']\n",
      "2:['1', '3', '4', '5']\n",
      "3:['0', '1', '2', '4']\n",
      "4:['2', '3', '6']\n",
      "5:['1', '2']\n",
      "6:['1', '4']\n"
     ]
    }
   ],
   "source": [
    "#Adjacency List(Undirected):\n",
    "\n",
    "class Vertex:\n",
    "    def __init__(self,v):\n",
    "        self.name = v\n",
    "        self.neighbours = list()\n",
    "\n",
    "    def add_neighbour(self,v):\n",
    "        if v not in self.neighbours:\n",
    "            self.neighbours.append(v)\n",
    "            self.neighbours.sort()\n",
    "\n",
    "class Graph:\n",
    "    vertices = {}\n",
    "\n",
    "    def add_vertex(self,vertex):\n",
    "        if isinstance(vertex, Vertex) and vertex.name not in self.vertices:\n",
    "            self.vertices[vertex.name] = vertex\n",
    "\n",
    "    def add_edge(self,u,v):\n",
    "        if u in self.vertices and v in self.vertices:\n",
    "            for key,value in self.vertices.items():\n",
    "                if key==u:\n",
    "                    value.add_neighbour(v)\n",
    "                if key==v:\n",
    "                    value.add_neighbour(u)\n",
    "                \n",
    "    def print_graph(self):\n",
    "        for k in sorted(list(self.vertices.keys())):\n",
    "            print(k+':'+str(self.vertices[k].neighbours))\n",
    "            \n",
    "graph=Graph()\n",
    "graph.add_vertex(Vertex('0'))\n",
    "graph.add_vertex(Vertex('1'))\n",
    "graph.add_vertex(Vertex('2'))\n",
    "graph.add_vertex(Vertex('3'))\n",
    "graph.add_vertex(Vertex('4'))\n",
    "graph.add_vertex(Vertex('5'))\n",
    "graph.add_vertex(Vertex('6'))\n",
    "\n",
    "edges=['01','03','12','13','15','16','23','25','24','34','46']\n",
    "for edge in edges:\n",
    "    graph.add_edge(edge[:1], edge[1:])\n",
    "graph.print_graph()\n"
   ]
  },
  {
   "cell_type": "code",
   "execution_count": null,
   "metadata": {},
   "outputs": [],
   "source": [
    "#Adjacency List(Directed graph):\n",
    "class Graph:\n",
    "    def __init__(self,Vertices):\n",
    "        self.V = Vertices\n",
    "        self.graph = [[0 for column in range(Vertices)]for row in range(Vertices)]\n",
    "\n",
    "    def add_edge(self,u,v):\n",
    "        self.graph[u][v] = 1\n",
    "    \n",
    "    def print_graph(self):\n",
    "        print('X', end=\" \")\n",
    "        for i in range( self.V):\n",
    "            print(i, end=\" \")\n",
    "        print()\n",
    "        for i in range(self.V):\n",
    "            print(i,end=\" \")\n",
    "            for j in range(self.V):\n",
    "                print(self.graph[i][j],end=\" \")\n",
    "            print()\n",
    "\n",
    "graph = Graph(7)\n",
    "graph.add_edge(0,1)\n",
    "graph.add_edge(0,3)\n",
    "graph.add_edge(1,2)\n",
    "graph.add_edge(1,3)\n",
    "graph.add_edge(1,5)\n",
    "graph.add_edge(1,6)\n",
    "graph.add_edge(2,3)\n",
    "graph.add_edge(2,5)\n",
    "graph.add_edge(2,4)\n",
    "graph.add_edge(3,4)\n",
    "graph.add_edge(4,6)\n",
    "graph.print_graph()\n"
   ]
  }
 ],
 "metadata": {
  "kernelspec": {
   "display_name": "Python 3",
   "language": "python",
   "name": "python3"
  },
  "language_info": {
   "codemirror_mode": {
    "name": "ipython",
    "version": 3
   },
   "file_extension": ".py",
   "mimetype": "text/x-python",
   "name": "python",
   "nbconvert_exporter": "python",
   "pygments_lexer": "ipython3",
   "version": "3.10.6"
  },
  "orig_nbformat": 4,
  "vscode": {
   "interpreter": {
    "hash": "916dbcbb3f70747c44a77c7bcd40155683ae19c65e1c03b4aa3499c5328201f1"
   }
  }
 },
 "nbformat": 4,
 "nbformat_minor": 2
}
