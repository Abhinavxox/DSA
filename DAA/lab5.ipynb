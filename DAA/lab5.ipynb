{
 "cells": [
  {
   "cell_type": "code",
   "execution_count": 3,
   "metadata": {},
   "outputs": [
    {
     "name": "stdout",
     "output_type": "stream",
     "text": [
      "Number of zeros in the array: 4\n"
     ]
    }
   ],
   "source": [
    "def count_zeros(arr):\n",
    "    if len(arr) == 0:\n",
    "        return 0\n",
    "    \n",
    "    if arr[0] == 0:\n",
    "        return len(arr)\n",
    "    \n",
    "    if arr[-1] == 1:\n",
    "        return 0\n",
    "    \n",
    "    mid = len(arr) // 2\n",
    "    left_half = arr[:mid]\n",
    "    right_half = arr[mid:]\n",
    "    \n",
    "    return count_zeros(left_half) + count_zeros(right_half)\n",
    "\n",
    "arr = list(map(int, input(\"Enter the array\").split()))\n",
    "\n",
    "num_zeros = count_zeros(arr)\n",
    "print(\"Number of zeros in the array:\", num_zeros)"
   ]
  },
  {
   "attachments": {},
   "cell_type": "markdown",
   "metadata": {},
   "source": [
    "Time complexity for above algorithm is O(logn)"
   ]
  },
  {
   "cell_type": "code",
   "execution_count": 10,
   "metadata": {},
   "outputs": [
    {
     "name": "stdout",
     "output_type": "stream",
     "text": [
      "Number of questions of type 1: 1\n",
      "Number of questions of type 2: 1\n",
      "Number of questions of type 3: 1\n",
      "Number of questions of type 4: 0\n"
     ]
    }
   ],
   "source": [
    "def maximize_marks(question_types, total_time, pass_marks):\n",
    "    question_types.sort(key=lambda x: x[2], reverse=True)\n",
    "\n",
    "    total_marks = 0\n",
    "    total_time_used = 0\n",
    "    num_questions = [0] * len(question_types)\n",
    "\n",
    "    for i in range(len(question_types)):\n",
    "        marks, time, _ = question_types[i]\n",
    "        if total_time_used + time <= total_time:\n",
    "            total_marks += marks\n",
    "            total_time_used += time\n",
    "            num_questions[i] += 1\n",
    "\n",
    "    return num_questions\n",
    "\n",
    "question_types = [(2, 1, 2), (5, 2, 2.5), (10, 4, 2.5), (15, 7, 2.14)]\n",
    "\n",
    "# Define the total time available and the pass marks required\n",
    "total_time = 7\n",
    "pass_marks = 20\n",
    "\n",
    "# Calculate the maximum number of questions to attempt for each type\n",
    "num_questions = maximize_marks(question_types, total_time, pass_marks)\n",
    "\n",
    "# Print the results\n",
    "for i, num in enumerate(num_questions):\n",
    "    print(f\"Number of questions of type {i+1}: {num}\")\n"
   ]
  },
  {
   "cell_type": "code",
   "execution_count": null,
   "metadata": {},
   "outputs": [],
   "source": []
  }
 ],
 "metadata": {
  "kernelspec": {
   "display_name": "Python 3",
   "language": "python",
   "name": "python3"
  },
  "language_info": {
   "codemirror_mode": {
    "name": "ipython",
    "version": 3
   },
   "file_extension": ".py",
   "mimetype": "text/x-python",
   "name": "python",
   "nbconvert_exporter": "python",
   "pygments_lexer": "ipython3",
   "version": "3.10.6"
  },
  "orig_nbformat": 4
 },
 "nbformat": 4,
 "nbformat_minor": 2
}
